{
 "cells": [
  {
   "cell_type": "code",
   "execution_count": 1,
   "id": "d6b2bb6f-63fa-4375-b3fc-b3ba19e1f2a0",
   "metadata": {},
   "outputs": [],
   "source": [
    "seed_value = 1986"
   ]
  },
  {
   "cell_type": "markdown",
   "id": "e6ad2898-74e7-40fe-9099-ba44e88d301c",
   "metadata": {},
   "source": [
    "# Data Preparation"
   ]
  },
  {
   "cell_type": "markdown",
   "id": "f6068f87-49e3-404d-9e1f-8a2e7a633d59",
   "metadata": {},
   "source": [
    "## get audio files"
   ]
  },
  {
   "cell_type": "code",
   "execution_count": 2,
   "id": "f77cd78e-5978-42af-958f-1de0dd145cc3",
   "metadata": {},
   "outputs": [
    {
     "name": "stderr",
     "output_type": "stream",
     "text": [
      "INFO:speechbrain.utils.quirks:Applied quirks (see `speechbrain.utils.quirks`): [disable_jit_profiling, allow_tf32]\n",
      "INFO:speechbrain.utils.quirks:Excluded quirks specified by the `SB_DISABLE_QUIRKS` environment (comma-separated list): []\n"
     ]
    },
    {
     "name": "stdout",
     "output_type": "stream",
     "text": [
      "data size=  831\n"
     ]
    }
   ],
   "source": [
    "# Your code here\n",
    "from speechbrain.utils.data_utils import get_all_files\n",
    "\n",
    "# Your code here\n",
    "data_files = get_all_files('/home/ulaval.ca/maelr5/scratch/parkinsons', match_and=['.wav'])\n",
    "\n",
    "print('data size= ', len(data_files))\n",
    "\n"
   ]
  },
  {
   "cell_type": "code",
   "execution_count": 3,
   "id": "39c69bf7-7957-4f0e-b797-ddf0dba3cc69",
   "metadata": {},
   "outputs": [
    {
     "data": {
      "text/plain": [
       "list"
      ]
     },
     "execution_count": 3,
     "metadata": {},
     "output_type": "execute_result"
    }
   ],
   "source": [
    "type(data_files)"
   ]
  },
  {
   "cell_type": "markdown",
   "id": "14a1dbf5-391c-4c79-ae28-02cead144685",
   "metadata": {},
   "source": [
    "## split data into train/ valid/ test sets:\n",
    "\n",
    "80% Training, 10%Validation, 10% Test\n"
   ]
  },
  {
   "cell_type": "code",
   "execution_count": 4,
   "id": "d7af8ce1-edab-4b1c-8ea4-0e077b260264",
   "metadata": {},
   "outputs": [
    {
     "name": "stdout",
     "output_type": "stream",
     "text": [
      "train size=  664\n",
      "valid size=  83\n",
      "test size=  84\n"
     ]
    }
   ],
   "source": [
    "from sklearn.model_selection import train_test_split\n",
    "\n",
    "train_files, test_files = train_test_split(data_files, test_size=0.2, train_size=0.8, random_state=seed_value, shuffle=True)\n",
    "valid_files, test_files = train_test_split(test_files, test_size=0.5, train_size=0.5, random_state=seed_value, shuffle=True)\n",
    "\n",
    "print('train size= ', len(train_files))\n",
    "print('valid size= ', len(valid_files))\n",
    "print('test size= ', len(test_files))\n"
   ]
  },
  {
   "cell_type": "code",
   "execution_count": 18,
   "id": "57268672-2240-4a58-bae6-55d25f065e5a",
   "metadata": {},
   "outputs": [
    {
     "name": "stdout",
     "output_type": "stream",
     "text": [
      "AudioMetaData(sample_rate=16000, num_frames=660793, num_channels=1, bits_per_sample=16, encoding=PCM_S)\n",
      "AudioMetaData(sample_rate=16000, num_frames=110000, num_channels=1, bits_per_sample=16, encoding=PCM_S)\n"
     ]
    }
   ],
   "source": [
    "import torchaudio\n",
    "print(torchaudio.info(\"/home/ulaval.ca/maelr5/scratch/parkinsons/15 Young Healthy Control/Davide S/B1LBULCAAS94M100120171036.wav\"))\n",
    "print(torchaudio.info(\"/home/ulaval.ca/maelr5/scratch/parkinsons/22 Elderly Healthy Control/GILDA C/D2GCIALSDA52F170320171126.wav\"))\n"
   ]
  },
  {
   "cell_type": "code",
   "execution_count": 17,
   "id": "bf2a963e-1742-43ff-8d8f-2279796112e7",
   "metadata": {},
   "outputs": [
    {
     "name": "stdout",
     "output_type": "stream",
     "text": [
      "AudioMetaData(sample_rate=44100, num_frames=3244628, num_channels=1, bits_per_sample=16, encoding=PCM_S)\n",
      "AudioMetaData(sample_rate=16000, num_frames=531500, num_channels=1, bits_per_sample=16, encoding=PCM_S)\n",
      "AudioMetaData(sample_rate=44100, num_frames=1461474, num_channels=1, bits_per_sample=16, encoding=PCM_S)\n"
     ]
    }
   ],
   "source": [
    "print(torchaudio.info(\"/home/ulaval.ca/maelr5/scratch/parkinsons/28 People with Parkinson's disease/1-5/Domenico C/B1cdaopmoe67M2605161902.wav\"))\n",
    "print(torchaudio.info(\"/home/ulaval.ca/maelr5/scratch/parkinsons/28 People with Parkinson's disease/17-28/Giovanni M/FB1GMIAOSVI44M100220170952.wav\"))\n",
    "print(torchaudio.info(\"/home/ulaval.ca/maelr5/scratch/parkinsons/28 People with Parkinson's disease/6-10/Saverio S/FB1ssacvhei61M1606161751.wav\"))\n",
    "\n"
   ]
  },
  {
   "cell_type": "markdown",
   "id": "bdbe1b94-e64b-4206-b480-89028d704418",
   "metadata": {},
   "source": [
    "## create json files"
   ]
  },
  {
   "cell_type": "code",
   "execution_count": 20,
   "id": "07c1ffe9-2466-4439-9b48-2831101969a9",
   "metadata": {},
   "outputs": [],
   "source": [
    "import json\n",
    "import torchaudio\n",
    "\n",
    "def create_json(json_file, audiolist):\n",
    "  json_dict = {}\n",
    "  for audiofile in audiolist:\n",
    "\n",
    "    # Getting info\n",
    "    audioinfo = torchaudio.info(audiofile)\n",
    "\n",
    "    # Compute the duration in seconds.\n",
    "    # This is the number of samples divided by the sampling frequency\n",
    "    duration = audioinfo.num_frames / audioinfo.sample_rate\n",
    "\n",
    "    # Get spk Label by manipulating the audio path\n",
    "    # detection_id = audiofile.split('/')[-4].split(' ')[-2:]\n",
    "    if \"Healthy Control\" in audiofile:\n",
    "        detection_id = \"Healthy Control\"\n",
    "    elif \"with Parkinson's disease\" in audiofile:\n",
    "        detection_id = \"with Parkinson's disease\"\n",
    "\n",
    "    # Get a unique utterance id\n",
    "    uttid = audiofile.split('/')[-2] + '_' + audiofile.split('/')[-1][:-4]\n",
    "\n",
    "    # Create entry for this utterance\n",
    "    json_dict[uttid] = {\n",
    "            \"path\": audiofile,\n",
    "            \"length\": duration,\n",
    "            \"detection\": detection_id,\n",
    "    }\n",
    "\n",
    "    # Writing the dictionary to the json file\n",
    "    with open(json_file, mode=\"w\") as json_f:\n",
    "      json.dump(json_dict, json_f, indent=2)\n",
    "\n",
    "\n",
    "\n",
    "create_json('train.json', train_files)\n",
    "create_json('valid.json', valid_files)\n",
    "create_json('test.json', test_files)\n",
    "\n"
   ]
  },
  {
   "cell_type": "markdown",
   "id": "68aa9903-3a77-413f-b440-709e59c5055a",
   "metadata": {},
   "source": [
    "The json files are formatted in the following way:-\n",
    "\n",
    "train.json:\n",
    "```\n",
    "{\n",
    "  \"Vito S_D1VSIPTIOZ46M240120171923\": {\n",
    "    \"path\": \"/home/ulaval.ca/maelr5/scratch/parkinsons/28 People with Parkinson's disease/11-16/Vito S/D1VSIPTIOZ46M240120171923.wavv\",\n",
    "    \"length\": 6.65625,\n",
    "    \"detection\": \"with Parkinson's disease\"\n",
    "  },\n",
    "  \"VITO L_B2VLIATFOO55M300320171238\": {\n",
    "    \"path\": \"/home/ulaval.ca/maelr5/scratch/parkinsons/22 Elderly Healthy Control/VITO L/B2VLIATFOO55M300320171238.wav\",\n",
    "    \"length\": 71.1339375,\n",
    "    \"detection\": \"Healthy Control\"\n",
    "  },\n",
    "  \"Giovanni M_B1GMIAOSVI44M100220170942\": {\n",
    "    \"path\": \"/home/ulaval.ca/maelr5/scratch/parkinsons/28 People with Parkinson's disease/17-28/Giovanni M/B1GMIAOSVI44M100220170942.wav\",\n",
    "    \"length\": 70.912,\n",
    "    \"detection\": \"with Parkinson's disease\"\n",
    "  },\n",
    "....\n",
    "```\n",
    "\n",
    "valid.json:\n",
    "```\n",
    "{\n",
    "  \"GRAZIA G_B2GGRIAUZL45F020420171820\": {\n",
    "    \"path\": \"/home/ulaval.ca/maelr5/scratch/parkinsons/22 Elderly Healthy Control/GRAZIA G/B2GGRIAUZL45F020420171820.wav\",\n",
    "    \"length\": 62.763125,\n",
    "    \"detection\": \"Healthy Control\"\n",
    "  },\n",
    "  \"GRAZIA G_VU2GGRIAUZL45F020420171824\": {\n",
    "    \"path\": \"/home/ulaval.ca/maelr5/scratch/parkinsons/22 Elderly Healthy Control/GRAZIA G/VU2GGRIAUZL45F020420171824.wav\",\n",
    "    \"length\": 5.862625,\n",
    "    \"detection\": \"Healthy Control\"\n",
    "  },\n",
    "  \"Giulia P_B2GPIUUGLL63F100220171021\": {\n",
    "    \"path\": \"/home/ulaval.ca/maelr5/scratch/parkinsons/28 People with Parkinson's disease/17-28/Giulia P/B2GPIUUGLL63F100220171021.wav\",\n",
    "    \"length\": 54.1875,\n",
    "    \"detection\": \"with Parkinson's disease\"\n",
    "  },\n",
    "....\n",
    "```\n",
    "\n",
    "test.json:\n",
    "```\n",
    "{\n",
    "  \"ANGELA C_VU2ACNAGRER49F210320170923\": {\n",
    "    \"path\": \"/home/ulaval.ca/maelr5/scratch/parkinsons/22 Elderly Healthy Control/ANGELA C/VU2ACNAGRER49F210320170923.wav\",\n",
    "    \"length\": 6.547625,\n",
    "    \"detection\": \"Healthy Control\"\n",
    "  },\n",
    "  \"Vito S_PR1VSIOTLOP47M100220171337\": {\n",
    "    \"path\": \"/home/ulaval.ca/maelr5/scratch/parkinsons/28 People with Parkinson's disease/17-28/Vito S/PR1VSIOTLOP47M100220171337.wav\",\n",
    "    \"length\": 65.25,\n",
    "    \"detection\": \"with Parkinson's disease\"\n",
    "  },\n",
    "  \"Nicola S_VE2sncihcio44M1606161722\": {\n",
    "    \"path\": \"/home/ulaval.ca/maelr5/scratch/parkinsons/28 People with Parkinson's disease/6-10/Nicola S/VE2sncihcio44M1606161722.wav\",\n",
    "    \"length\": 6.5,\n",
    "    \"detection\": \"with Parkinson's disease\"\n",
    "  },\n",
    "....\n",
    "```"
   ]
  },
  {
   "cell_type": "markdown",
   "id": "c19b4b4d-8d53-4437-84ca-1f325335a5de",
   "metadata": {},
   "source": [
    "## Create small data for sanity check of the model:\n",
    "\n",
    "The model should overfit this data after training for multiple epochs."
   ]
  },
  {
   "cell_type": "code",
   "execution_count": 5,
   "id": "9cae78cb-2e1a-4d79-8ad6-99e4360d8eb8",
   "metadata": {},
   "outputs": [],
   "source": [
    "import json\n",
    "import torchaudio\n",
    "\n",
    "def create_json(json_file, audiolist):\n",
    "  json_dict = {}\n",
    "  for audiofile in audiolist[:2]:\n",
    "\n",
    "    # Getting info\n",
    "    audioinfo = torchaudio.info(audiofile)\n",
    "\n",
    "    # Compute the duration in seconds.\n",
    "    # This is the number of samples divided by the sampling frequency\n",
    "    duration = audioinfo.num_frames / audioinfo.sample_rate\n",
    "\n",
    "    # Get spk Label by manipulating the audio path\n",
    "    if \"Healthy Control\" in audiofile:\n",
    "        detection_id = \"Healthy Control\"\n",
    "    elif \"with Parkinson's disease\" in audiofile:\n",
    "        detection_id = \"with Parkinson's disease\"\n",
    "\n",
    "    # Get a unique utterance id\n",
    "    uttid = audiofile.split('/')[-2] + '_' + audiofile.split('/')[-1][:-4]\n",
    "\n",
    "    # Create entry for this utterance\n",
    "    json_dict[uttid] = {\n",
    "            \"path\": audiofile,\n",
    "            \"length\": duration,\n",
    "            \"detection\": detection_id,\n",
    "    }\n",
    "\n",
    "    # Writing the dictionary to the json file\n",
    "    with open(json_file, mode=\"w\") as json_f:\n",
    "      json.dump(json_dict, json_f, indent=2)\n",
    "\n",
    "\n",
    "\n",
    "create_json('train-check.json', train_files)\n",
    "create_json('valid-check.json', valid_files)\n",
    "create_json('test-check.json', test_files)\n",
    "\n"
   ]
  },
  {
   "cell_type": "markdown",
   "id": "e22da115-a3ac-484b-a7fc-5387bbe154f1",
   "metadata": {},
   "source": [
    "## Data statistics"
   ]
  },
  {
   "cell_type": "markdown",
   "id": "4213ec4d-03d6-4b10-9d16-52e216a25b3b",
   "metadata": {},
   "source": [
    "### number of examples in each class \n",
    "\n",
    "to check the classes balance ratio"
   ]
  },
  {
   "cell_type": "code",
   "execution_count": 4,
   "id": "d0d602a2-bdde-4815-92bf-4723199234c8",
   "metadata": {},
   "outputs": [
    {
     "name": "stdout",
     "output_type": "stream",
     "text": [
      "15 young healthy data size=  45\n",
      "22 elderly healthy data size=  349\n",
      "37 candidates - Healthy data size=  394\n"
     ]
    }
   ],
   "source": [
    "from speechbrain.utils.data_utils import get_all_files\n",
    "\n",
    "young_healthy_files = get_all_files(\"/home/ulaval.ca/maelr5/scratch/parkinsons/15 Young Healthy Control\", match_and=['.wav'])\n",
    "elderly_healthy_files = get_all_files(\"/home/ulaval.ca/maelr5/scratch/parkinsons/22 Elderly Healthy Control\", match_and=['.wav'])\n",
    "\n",
    "print('15 young healthy data size= ', len(young_healthy_files))\n",
    "print('22 elderly healthy data size= ', len(elderly_healthy_files))\n",
    "print('37 candidates - Healthy data size= ', len(young_healthy_files) + len(elderly_healthy_files))\n"
   ]
  },
  {
   "cell_type": "code",
   "execution_count": 5,
   "id": "23964c3d-357d-4c32-8a2c-865b4bccd4f2",
   "metadata": {},
   "outputs": [
    {
     "name": "stdout",
     "output_type": "stream",
     "text": [
      "28 candidates - with Parkinson's disease data size=  437\n"
     ]
    }
   ],
   "source": [
    "data_files = get_all_files(\"/home/ulaval.ca/maelr5/scratch/parkinsons/28 People with Parkinson's disease\", match_and=['.wav'])\n",
    "\n",
    "print(\"28 candidates - with Parkinson's disease data size= \", len(data_files))\n"
   ]
  },
  {
   "cell_type": "code",
   "execution_count": null,
   "id": "f6e0184f-3ea9-4fdf-b785-1d253cf164bd",
   "metadata": {},
   "outputs": [],
   "source": [
    "\n",
    "# 39 Healthy (1) in test\n",
    "# 45 PD (0) in test"
   ]
  },
  {
   "cell_type": "markdown",
   "id": "0ba7d11a-b35d-4078-bcd5-80c80f90d7dd",
   "metadata": {},
   "source": [
    "# decrease the data and use the short recordings of vowels"
   ]
  },
  {
   "cell_type": "code",
   "execution_count": 2,
   "id": "db54f9dd-def8-44e1-9b25-e9433bff862e",
   "metadata": {},
   "outputs": [
    {
     "name": "stdout",
     "output_type": "stream",
     "text": [
      "data size=  534\n",
      "train size=  427\n",
      "valid size=  53\n",
      "test size=  54\n"
     ]
    }
   ],
   "source": [
    "# Your code here\n",
    "from speechbrain.utils.data_utils import get_all_files\n",
    "\n",
    "# Your code here\n",
    "data_files = get_all_files('/home/ulaval.ca/maelr5/scratch/parkinsons',\n",
    "                           match_and=['.wav'],\n",
    "                           match_or=['VA', 'VE', 'VI', 'VO', 'VU'],\n",
    "                          )\n",
    "\n",
    "print('data size= ', len(data_files))\n",
    "\n",
    "from sklearn.model_selection import train_test_split\n",
    "\n",
    "train_files, test_files = train_test_split(data_files, test_size=0.2, train_size=0.8, random_state=seed_value, shuffle=True)\n",
    "valid_files, test_files = train_test_split(test_files, test_size=0.5, train_size=0.5, random_state=seed_value, shuffle=True)\n",
    "\n",
    "print('train size= ', len(train_files))\n",
    "print('valid size= ', len(valid_files))\n",
    "print('test size= ', len(test_files))\n"
   ]
  },
  {
   "cell_type": "code",
   "execution_count": 3,
   "id": "f1374c7b-5160-4028-a971-bdbdb5e38d68",
   "metadata": {},
   "outputs": [],
   "source": [
    "import json\n",
    "import torchaudio\n",
    "\n",
    "def create_json(json_file, audiolist):\n",
    "  json_dict = {}\n",
    "  for audiofile in audiolist:\n",
    "\n",
    "    # Getting info\n",
    "    audioinfo = torchaudio.info(audiofile)\n",
    "\n",
    "    # Compute the duration in seconds.\n",
    "    # This is the number of samples divided by the sampling frequency\n",
    "    duration = audioinfo.num_frames / audioinfo.sample_rate\n",
    "\n",
    "    # Get spk Label by manipulating the audio path\n",
    "    if \"Healthy Control\" in audiofile:\n",
    "        detection_id = \"Healthy Control\"\n",
    "    elif \"with Parkinson's disease\" in audiofile:\n",
    "        detection_id = \"with Parkinson's disease\"\n",
    "\n",
    "    # Get a unique utterance id\n",
    "    uttid = audiofile.split('/')[-2] + '_' + audiofile.split('/')[-1][:-4]\n",
    "\n",
    "    # Create entry for this utterance\n",
    "    json_dict[uttid] = {\n",
    "            \"path\": audiofile,\n",
    "            \"length\": duration,\n",
    "            \"detection\": detection_id,\n",
    "    }\n",
    "\n",
    "    # Writing the dictionary to the json file\n",
    "    with open(json_file, mode=\"w\") as json_f:\n",
    "      json.dump(json_dict, json_f, indent=2)\n",
    "\n",
    "\n",
    "\n",
    "create_json('train-vowels.json', train_files)\n",
    "create_json('valid-vowels.json', valid_files)\n",
    "create_json('test-vowels.json', test_files)\n",
    "\n"
   ]
  },
  {
   "cell_type": "code",
   "execution_count": null,
   "id": "4d223af3-a33d-4017-b679-a769b9d7de09",
   "metadata": {},
   "outputs": [],
   "source": []
  }
 ],
 "metadata": {
  "kernelspec": {
   "display_name": "parksenv",
   "language": "python",
   "name": "parksenv"
  },
  "language_info": {
   "codemirror_mode": {
    "name": "ipython",
    "version": 3
   },
   "file_extension": ".py",
   "mimetype": "text/x-python",
   "name": "python",
   "nbconvert_exporter": "python",
   "pygments_lexer": "ipython3",
   "version": "3.11.5"
  }
 },
 "nbformat": 4,
 "nbformat_minor": 5
}
